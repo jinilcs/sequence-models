{
 "cells": [
  {
   "cell_type": "code",
   "execution_count": 1,
   "metadata": {
    "collapsed": true
   },
   "outputs": [],
   "source": [
    "import numpy as np"
   ]
  },
  {
   "cell_type": "code",
   "execution_count": 2,
   "metadata": {
    "collapsed": true
   },
   "outputs": [],
   "source": [
    "def softmax(x):\n",
    "    ex = np.exp(x)\n",
    "    return ex / np.sum(ex, axis=0)"
   ]
  },
  {
   "cell_type": "code",
   "execution_count": 6,
   "metadata": {
    "collapsed": true
   },
   "outputs": [],
   "source": [
    "def rnn_cell_forward(xt, a_prev, parameters):\n",
    "    \"\"\"\n",
    "    Forward step of 1 rnn cell\n",
    "    \n",
    "    nx = vocabulary size\n",
    "    m = number of samples\n",
    "\n",
    "    input size (nx, m)\n",
    "    activations size (na, m)\n",
    "    output size(ny, m)\n",
    "\n",
    "    Wax -> (na, nx)\n",
    "    xt -> (nx, m)\n",
    "    Waa -> (na, na)\n",
    "    a_prev -> (na, m)\n",
    "    ba -> (na, 1)\n",
    "\n",
    "    Wya -> (ny, na)\n",
    "    a_next -> (na, m)\n",
    "    by -> (ny ,1)\n",
    "    \"\"\"\n",
    "    Wax = parameters['Wax']\n",
    "    Waa = parameters['Waa']\n",
    "    Wya = parameters['Wya']\n",
    "    ba = parameters['ba']\n",
    "    by = parameters['by']\n",
    "    \n",
    "    #next activation\n",
    "    a_next = np.tanh(np.dot(Wax,xt) + np.dot(Waa, a_prev) + ba)\n",
    "    yt_pred = softmax(np.dot(Wya, a_next) + by)\n",
    "    \n",
    "    cache = (a_next, a_prev, xt, parameters)\n",
    "    return a_next, yt_pred, cache"
   ]
  },
  {
   "cell_type": "code",
   "execution_count": 16,
   "metadata": {
    "collapsed": true
   },
   "outputs": [],
   "source": [
    "def rnn_forward(x, a0, parameters):\n",
    "    \"\"\"\n",
    "    Forward propogation of RNN\n",
    "    \n",
    "    nx = vocabulary size\n",
    "    m = number of samples\n",
    "    Tx = number of words/time steps\n",
    "    \n",
    "    x - input data of shape (nx, m, Tx)\n",
    "    a0 - initial activation state of shape (n_a, m)\n",
    "    \"\"\"\n",
    "    n_x, m, Tx = x.shape\n",
    "    n_y, n_a = parameters['Wya'].shape\n",
    "    \n",
    "    a = np.zeros((n_a, m, Tx))\n",
    "    y_pred = np.zeros((n_y, m, Tx))\n",
    "    \n",
    "    a_next = a0\n",
    "    caches = []\n",
    "    \n",
    "    for t in range(Tx):\n",
    "        a_next, yt_pred, cache = rnn_cell_forward(x[:,:,t], a_next, parameters)\n",
    "        a[:,:,t] = a_next\n",
    "        y_pred[:,:,t] = yt_pred\n",
    "        caches.append(cache)\n",
    "        \n",
    "    caches = (caches, x)\n",
    "    \n",
    "    return a, y_pred, caches        "
   ]
  },
  {
   "cell_type": "code",
   "execution_count": null,
   "metadata": {
    "collapsed": true
   },
   "outputs": [],
   "source": []
  }
 ],
 "metadata": {
  "kernelspec": {
   "display_name": "Python 3",
   "language": "python",
   "name": "python3"
  },
  "language_info": {
   "codemirror_mode": {
    "name": "ipython",
    "version": 3
   },
   "file_extension": ".py",
   "mimetype": "text/x-python",
   "name": "python",
   "nbconvert_exporter": "python",
   "pygments_lexer": "ipython3",
   "version": "3.5.4"
  }
 },
 "nbformat": 4,
 "nbformat_minor": 2
}
